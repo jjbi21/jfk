{
 "cells": [
  {
   "cell_type": "code",
   "execution_count": 1,
   "metadata": {},
   "outputs": [],
   "source": [
    "# subword model demo\n",
    "import sys\n",
    "sys.path.insert(0, sys.path[0]+'\\\\src\\\\word-rnn')\n",
    "import os\n",
    "os.chdir(os.getcwd()+'\\\\src\\\\word-rnn')\n",
    "import generate"
   ]
  },
  {
   "cell_type": "code",
   "execution_count": 14,
   "metadata": {},
   "outputs": [
    {
     "name": "stdout",
     "output_type": "stream",
     "text": [
      "SOOOO MUCH. I love a curvy woman who still can rock her confidence in any clothes. Kelly, you still have that voice OMGGGGGG lady, come by singapore, have a acoustic session with few fans and i'll I respect her for that, some security guards are too rough and don't care if they hurt people. ¬\n",
      "channel, trump looks like a heroin addict to me. ¬\n",
      "is the best. You are the champion.\\n\\nMiracle- I am low, and I feel bad. Trump train! ¬\n",
      "the natureza linda, anitta t de parabns! ¬\n",
      "other It's just hope Ezra choose the right destiny. ¬\n"
     ]
    }
   ],
   "source": [
    "# can run multiple times\n",
    "# note that some fields passed do not modify behavior\n",
    "# uses model with all comments; training has already been done\n",
    "for i in range(5):\n",
    "    generate.main(sys.path[0]+'\\comments.pt', 100, 'A', True, True)"
   ]
  },
  {
   "cell_type": "code",
   "execution_count": null,
   "metadata": {},
   "outputs": [],
   "source": []
  }
 ],
 "metadata": {
  "kernelspec": {
   "display_name": "Python 3",
   "language": "python",
   "name": "python3"
  },
  "language_info": {
   "codemirror_mode": {
    "name": "ipython",
    "version": 3
   },
   "file_extension": ".py",
   "mimetype": "text/x-python",
   "name": "python",
   "nbconvert_exporter": "python",
   "pygments_lexer": "ipython3",
   "version": "3.7.3"
  }
 },
 "nbformat": 4,
 "nbformat_minor": 2
}

{
 "cells": [
  {
   "cell_type": "code",
   "execution_count": 1,
   "metadata": {},
   "outputs": [],
   "source": [
    "from __future__ import unicode_literals, print_function, division\n",
    "from io import open\n",
    "import glob\n",
    "import os\n",
    "import random\n",
    "import time\n",
    "import math\n",
    "import torch\n",
    "import torch.nn as nn\n",
    "import torchvision\n",
    "import torchvision.transforms as transforms\n",
    "from matplotlib import pyplot as plt\n",
    "import numpy as np\n",
    "import pandas as pd\n",
    "from collections import defaultdict\n",
    "import pickle"
   ]
  },
  {
   "cell_type": "code",
   "execution_count": 2,
   "metadata": {},
   "outputs": [
    {
     "name": "stderr",
     "output_type": "stream",
     "text": [
      "b'Skipping line 41589: expected 4 fields, saw 11\\nSkipping line 51628: expected 4 fields, saw 7\\nSkipping line 114465: expected 4 fields, saw 5\\n'\n",
      "b'Skipping line 142496: expected 4 fields, saw 8\\nSkipping line 189732: expected 4 fields, saw 6\\nSkipping line 245218: expected 4 fields, saw 7\\n'\n",
      "b'Skipping line 388430: expected 4 fields, saw 5\\n'\n",
      "C:\\Users\\flavi\\Anaconda3\\lib\\site-packages\\IPython\\core\\interactiveshell.py:3058: DtypeWarning: Columns (2,3) have mixed types. Specify dtype option on import or set low_memory=False.\n",
      "  interactivity=interactivity, compiler=compiler, result=result)\n",
      "b'Skipping line 2401: expected 11 fields, saw 21\\nSkipping line 2800: expected 11 fields, saw 21\\nSkipping line 5297: expected 11 fields, saw 12\\nSkipping line 5299: expected 11 fields, saw 12\\nSkipping line 5300: expected 11 fields, saw 12\\nSkipping line 5301: expected 11 fields, saw 12\\n'\n"
     ]
    }
   ],
   "source": [
    "device = torch.device('cuda' if torch.cuda.is_available() else 'cpu')\n",
    "# def findFiles(path): return glob.glob(path)\n",
    "# print(findFiles('UScomments.csv'))\n",
    "df=pd.read_csv('youtube/UScomments.csv', sep=',',header=None,encoding='utf-8',dtype={'video_id':str, 'comment_text':str, 'likes':int, 'replies':int}, error_bad_lines=False)\n",
    "ytvideos=pd.read_csv('youtube/USvideos.csv', sep=',', header=None,encoding='utf-8',dtype={'video_id':str, 'title':str, 'channel_title':str, 'category_id':int, 'tags':str, 'likes':int, 'dislikes':int, 'comment_total':int,'thumbnail_link':str, 'data':int}, error_bad_lines=False)\n",
    "#my_data = np.genfromtxt('UScomments.csv', delimiter=',')"
   ]
  },
  {
   "cell_type": "code",
   "execution_count": 3,
   "metadata": {},
   "outputs": [],
   "source": [
    "from sklearn.model_selection import train_test_split"
   ]
  },
  {
   "cell_type": "code",
   "execution_count": 4,
   "metadata": {},
   "outputs": [],
   "source": [
    "a = df.to_numpy()\n",
    "comments = a[1:,1]\n",
    "comments_decode = list()\n",
    "for comment in comments:\n",
    "    if (type(comment) != float):\n",
    "        comments_decode.append(comment.encode(\"ascii\", errors=\"ignore\").decode())\n",
    "\n",
    "with open(\"comments.pkl\", 'wb') as out_file:\n",
    "     pickle.dump(comments_decode, out_file)"
   ]
  },
  {
   "cell_type": "code",
   "execution_count": null,
   "metadata": {},
   "outputs": [],
   "source": []
  },
  {
   "cell_type": "code",
   "execution_count": 7,
   "metadata": {},
   "outputs": [
    {
     "name": "stdout",
     "output_type": "stream",
     "text": [
      "<class 'list'>\n"
     ]
    }
   ],
   "source": [
    "with open(\"comments.pkl\", 'rb') as out_file:\n",
    "     p = pickle.load(out_file)\n",
    "\n",
    "print(type(p))"
   ]
  },
  {
   "cell_type": "code",
   "execution_count": 8,
   "metadata": {},
   "outputs": [
    {
     "name": "stdout",
     "output_type": "stream",
     "text": [
      "['XpVt6Z1Gjjo' 'trending 😉' '3' '0']\n",
      "['1' '10' '15' '17' '19' '2' '20' '22' '23' '24' '25' '26' '27' '28' '29'\n",
      " '43']\n"
     ]
    }
   ],
   "source": [
    "\n",
    "a = df.to_numpy()\n",
    "print(a[5])\n",
    "\n",
    "b = ytvideos.to_numpy()\n",
    "\n",
    "'''\n",
    "yt_dict = defaultdict(np.array)\n",
    "print(b[1])\n",
    "i = 0\n",
    "for video in b[1:]:\n",
    "    i += 1\n",
    "    if (i % 10 == 0):\n",
    "        print(i)\n",
    "    yt_dict[video[0]] = a[1:][a[1:, 0] == video[0]]\n",
    "\n",
    "print(yt_dict)\n",
    "'''\n",
    "\n",
    "print(np.unique(b[1:, 3]))\n",
    "categories = np.unique(b[1:, 3])\n",
    "cat_dict = defaultdict(list)\n",
    "\n",
    "for comment in a[1:]:\n",
    "    #print((b[:,0] == comment[0]).shape)\n",
    "    #print(b.shape)\n",
    "    category = b[b[:,0] == comment[0]][0][3]\n",
    "    #print(comment[1])\n",
    "    if ((category == '10' or category == '20' or category == '25') and type(comment[1]) == str):\n",
    "        cat_dict[category].append(comment[1].encode(\"ascii\", errors=\"ignore\").decode())\n"
   ]
  },
  {
   "cell_type": "code",
   "execution_count": 9,
   "metadata": {},
   "outputs": [],
   "source": [
    "with open(\"yt_categorized/music.pkl\", 'wb') as out_file:\n",
    "     pickle.dump(cat_dict['10'], out_file)\n",
    "        \n",
    "with open(\"yt_categorized/gaming.pkl\", 'wb') as out_file:\n",
    "     pickle.dump(cat_dict['20'], out_file)\n",
    "\n",
    "with open(\"yt_categorized/news.pkl\", 'wb') as out_file:\n",
    "     pickle.dump(cat_dict['25'], out_file)"
   ]
  },
  {
   "cell_type": "code",
   "execution_count": 30,
   "metadata": {
    "scrolled": false
   },
   "outputs": [
    {
     "name": "stdout",
     "output_type": "stream",
     "text": [
      "So glad she's back\n"
     ]
    },
    {
     "ename": "MemoryError",
     "evalue": "",
     "output_type": "error",
     "traceback": [
      "\u001b[1;31m---------------------------------------------------------------------------\u001b[0m",
      "\u001b[1;31mMemoryError\u001b[0m                               Traceback (most recent call last)",
      "\u001b[1;32m<ipython-input-30-9db63bddb74f>\u001b[0m in \u001b[0;36m<module>\u001b[1;34m\u001b[0m\n\u001b[0;32m      2\u001b[0m \u001b[1;31m#autos_comments = np.asarray(cat_dict['2'])\u001b[0m\u001b[1;33m\u001b[0m\u001b[1;33m\u001b[0m\u001b[1;33m\u001b[0m\u001b[0m\n\u001b[0;32m      3\u001b[0m \u001b[0mprint\u001b[0m\u001b[1;33m(\u001b[0m\u001b[0mcat_dict\u001b[0m\u001b[1;33m[\u001b[0m\u001b[1;34m'10'\u001b[0m\u001b[1;33m]\u001b[0m\u001b[1;33m[\u001b[0m\u001b[1;36m1\u001b[0m\u001b[1;33m]\u001b[0m\u001b[1;33m)\u001b[0m\u001b[1;33m\u001b[0m\u001b[1;33m\u001b[0m\u001b[0m\n\u001b[1;32m----> 4\u001b[1;33m \u001b[0mmusic_comments\u001b[0m \u001b[1;33m=\u001b[0m \u001b[0mnp\u001b[0m\u001b[1;33m.\u001b[0m\u001b[0masarray\u001b[0m\u001b[1;33m(\u001b[0m\u001b[0mcat_dict\u001b[0m\u001b[1;33m[\u001b[0m\u001b[1;34m'10'\u001b[0m\u001b[1;33m]\u001b[0m\u001b[1;33m)\u001b[0m\u001b[1;33m\u001b[0m\u001b[1;33m\u001b[0m\u001b[0m\n\u001b[0m\u001b[0;32m      5\u001b[0m '''\n\u001b[0;32m      6\u001b[0m \u001b[0mpets_comments\u001b[0m \u001b[1;33m=\u001b[0m \u001b[0mnp\u001b[0m\u001b[1;33m.\u001b[0m\u001b[0masarray\u001b[0m\u001b[1;33m(\u001b[0m\u001b[0mcat_dict\u001b[0m\u001b[1;33m[\u001b[0m\u001b[1;34m'15'\u001b[0m\u001b[1;33m]\u001b[0m\u001b[1;33m)\u001b[0m\u001b[1;33m\u001b[0m\u001b[1;33m\u001b[0m\u001b[0m\n",
      "\u001b[1;32m~\\Anaconda3\\lib\\site-packages\\numpy\\core\\numeric.py\u001b[0m in \u001b[0;36masarray\u001b[1;34m(a, dtype, order)\u001b[0m\n\u001b[0;32m    536\u001b[0m \u001b[1;33m\u001b[0m\u001b[0m\n\u001b[0;32m    537\u001b[0m     \"\"\"\n\u001b[1;32m--> 538\u001b[1;33m     \u001b[1;32mreturn\u001b[0m \u001b[0marray\u001b[0m\u001b[1;33m(\u001b[0m\u001b[0ma\u001b[0m\u001b[1;33m,\u001b[0m \u001b[0mdtype\u001b[0m\u001b[1;33m,\u001b[0m \u001b[0mcopy\u001b[0m\u001b[1;33m=\u001b[0m\u001b[1;32mFalse\u001b[0m\u001b[1;33m,\u001b[0m \u001b[0morder\u001b[0m\u001b[1;33m=\u001b[0m\u001b[0morder\u001b[0m\u001b[1;33m)\u001b[0m\u001b[1;33m\u001b[0m\u001b[1;33m\u001b[0m\u001b[0m\n\u001b[0m\u001b[0;32m    539\u001b[0m \u001b[1;33m\u001b[0m\u001b[0m\n\u001b[0;32m    540\u001b[0m \u001b[1;33m\u001b[0m\u001b[0m\n",
      "\u001b[1;31mMemoryError\u001b[0m: "
     ]
    }
   ],
   "source": [
    "#film_comments = np.asarray(cat_dict['1'])\n",
    "#autos_comments = np.asarray(cat_dict['2'])\n",
    "print(cat_dict['10'][1])\n",
    "#music_comments = np.asarray(cat_dict['10'])\n",
    "'''\n",
    "pets_comments = np.asarray(cat_dict['15'])\n",
    "sports_comments = np.asarray(cat_dict['17'])\n",
    "shortmovies_comments = np.asarray(cat_dict['18'])\n",
    "travel_comments = np.asarray(cat_dict['19'])\n",
    "'''\n",
    "#gaming_comments = np.asarray(cat_dict['20'])\n",
    "'''\n",
    "videoblogging_comments = np.asarray(cat_dict['21'])\n",
    "people_comments = np.asarray(cat_dict['22'])\n",
    "comedy_comments = np.asarray(cat_dict['23'])\n",
    "entertainment_comments = np.asarray(cat_dict['24'])\n",
    "'''\n",
    "news_comments = np.asarray(cat_dict['25'])\n",
    "'''\n",
    "howto_comments = np.asarray(cat_dict['26'])\n",
    "edu_comments = np.asarray(cat_dict['27'])\n",
    "science_comments = np.asarray(cat_dict['28'])\n",
    "nonprofits_comments = np.asarray(cat_dict['29'])\n",
    "movies_comments = np.asarray(cat_dict['30'])\n",
    "anim_comments = np.asarray(cat_dict['31'])\n",
    "action_comments = np.asarray(cat_dict['32'])\n",
    "classics_comments = np.asarray(cat_dict['33'])\n",
    "comedy_comments = np.asarray(cat_dict['34'])\n",
    "docu_comments = np.asarray(cat_dict['35'])\n",
    "drama_comments = np.asarray(cat_dict['36'])\n",
    "fam_comments = np.asarray(cat_dict['37'])\n",
    "foreign_comments = np.asarray(cat_dict['38'])\n",
    "horror_comments = np.asarray(cat_dict['39'])\n",
    "scifi_comments = np.asarray(cat_dict['40'])\n",
    "thriller_comments = np.asarray(cat_dict['41'])\n",
    "shorts_comments = np.asarray(cat_dict['42'])\n",
    "shows_comments = np.asarray(cat_dict['43'])\n",
    "trailers_comments = np.asarray(cat_dict['44'])\n",
    "'''\n",
    "#print(len(music_comments))\n",
    "np.random.seed(0)\n",
    "a = a[:,:3]"
   ]
  },
  {
   "cell_type": "code",
   "execution_count": 41,
   "metadata": {},
   "outputs": [
    {
     "name": "stdout",
     "output_type": "stream",
     "text": [
      "b'FILM TUBE new Channel Frequency \\xf0\\x9f\\x92\\x8b\\xf0\\x9f\\x92\\x8b\\xe2\\x9d\\xa5\\xe2\\x9d\\xa5\\xe2\\x9d\\xa5\\xf0\\x9f\\x91\\xab\\\\n                            .. \\xf0\\x9f\\x92\\x98\\xf0\\x9f\\x98\\xbb\\xf0\\x9f\\x92\\x8b\\xf0\\x9f\\x92\\x8b'\n"
     ]
    },
    {
     "ename": "UnicodeEncodeError",
     "evalue": "'charmap' codec can't encode character '\\U0001f48b' in position 0: character maps to <undefined>",
     "output_type": "error",
     "traceback": [
      "\u001b[1;31m---------------------------------------------------------------------------\u001b[0m",
      "\u001b[1;31mUnicodeEncodeError\u001b[0m                        Traceback (most recent call last)",
      "\u001b[1;32m<ipython-input-41-6d5f4059f978>\u001b[0m in \u001b[0;36m<module>\u001b[1;34m\u001b[0m\n\u001b[0;32m      1\u001b[0m \u001b[0mprint\u001b[0m\u001b[1;33m(\u001b[0m\u001b[0mcat_dict\u001b[0m\u001b[1;33m[\u001b[0m\u001b[1;34m'10'\u001b[0m\u001b[1;33m]\u001b[0m\u001b[1;33m[\u001b[0m\u001b[1;36m5\u001b[0m\u001b[1;33m]\u001b[0m\u001b[1;33m.\u001b[0m\u001b[0mencode\u001b[0m\u001b[1;33m(\u001b[0m\u001b[1;34m'utf-8'\u001b[0m\u001b[1;33m)\u001b[0m\u001b[1;33m)\u001b[0m\u001b[1;33m\u001b[0m\u001b[1;33m\u001b[0m\u001b[0m\n\u001b[0;32m      2\u001b[0m \u001b[1;32mwith\u001b[0m \u001b[0mopen\u001b[0m\u001b[1;33m(\u001b[0m\u001b[1;34m\"yt_categorized/music.txt\"\u001b[0m\u001b[1;33m,\u001b[0m \u001b[1;34m'w'\u001b[0m\u001b[1;33m)\u001b[0m \u001b[1;32mas\u001b[0m \u001b[0mout_file\u001b[0m\u001b[1;33m:\u001b[0m\u001b[1;33m\u001b[0m\u001b[1;33m\u001b[0m\u001b[0m\n\u001b[1;32m----> 3\u001b[1;33m      \u001b[0mout_file\u001b[0m\u001b[1;33m.\u001b[0m\u001b[0mwritelines\u001b[0m\u001b[1;33m(\u001b[0m\u001b[0mcat_dict\u001b[0m\u001b[1;33m[\u001b[0m\u001b[1;34m'10'\u001b[0m\u001b[1;33m]\u001b[0m\u001b[1;33m[\u001b[0m\u001b[1;36m5\u001b[0m\u001b[1;33m]\u001b[0m\u001b[1;33m)\u001b[0m\u001b[1;33m\u001b[0m\u001b[1;33m\u001b[0m\u001b[0m\n\u001b[0m",
      "\u001b[1;32m~\\Anaconda3\\lib\\encodings\\cp1252.py\u001b[0m in \u001b[0;36mencode\u001b[1;34m(self, input, final)\u001b[0m\n\u001b[0;32m     17\u001b[0m \u001b[1;32mclass\u001b[0m \u001b[0mIncrementalEncoder\u001b[0m\u001b[1;33m(\u001b[0m\u001b[0mcodecs\u001b[0m\u001b[1;33m.\u001b[0m\u001b[0mIncrementalEncoder\u001b[0m\u001b[1;33m)\u001b[0m\u001b[1;33m:\u001b[0m\u001b[1;33m\u001b[0m\u001b[1;33m\u001b[0m\u001b[0m\n\u001b[0;32m     18\u001b[0m     \u001b[1;32mdef\u001b[0m \u001b[0mencode\u001b[0m\u001b[1;33m(\u001b[0m\u001b[0mself\u001b[0m\u001b[1;33m,\u001b[0m \u001b[0minput\u001b[0m\u001b[1;33m,\u001b[0m \u001b[0mfinal\u001b[0m\u001b[1;33m=\u001b[0m\u001b[1;32mFalse\u001b[0m\u001b[1;33m)\u001b[0m\u001b[1;33m:\u001b[0m\u001b[1;33m\u001b[0m\u001b[1;33m\u001b[0m\u001b[0m\n\u001b[1;32m---> 19\u001b[1;33m         \u001b[1;32mreturn\u001b[0m \u001b[0mcodecs\u001b[0m\u001b[1;33m.\u001b[0m\u001b[0mcharmap_encode\u001b[0m\u001b[1;33m(\u001b[0m\u001b[0minput\u001b[0m\u001b[1;33m,\u001b[0m\u001b[0mself\u001b[0m\u001b[1;33m.\u001b[0m\u001b[0merrors\u001b[0m\u001b[1;33m,\u001b[0m\u001b[0mencoding_table\u001b[0m\u001b[1;33m)\u001b[0m\u001b[1;33m[\u001b[0m\u001b[1;36m0\u001b[0m\u001b[1;33m]\u001b[0m\u001b[1;33m\u001b[0m\u001b[1;33m\u001b[0m\u001b[0m\n\u001b[0m\u001b[0;32m     20\u001b[0m \u001b[1;33m\u001b[0m\u001b[0m\n\u001b[0;32m     21\u001b[0m \u001b[1;32mclass\u001b[0m \u001b[0mIncrementalDecoder\u001b[0m\u001b[1;33m(\u001b[0m\u001b[0mcodecs\u001b[0m\u001b[1;33m.\u001b[0m\u001b[0mIncrementalDecoder\u001b[0m\u001b[1;33m)\u001b[0m\u001b[1;33m:\u001b[0m\u001b[1;33m\u001b[0m\u001b[1;33m\u001b[0m\u001b[0m\n",
      "\u001b[1;31mUnicodeEncodeError\u001b[0m: 'charmap' codec can't encode character '\\U0001f48b' in position 0: character maps to <undefined>"
     ]
    }
   ],
   "source": [
    "print(cat_dict['10'][5].encode('utf-8'))\n",
    "with open(\"yt_categorized/music.txt\", 'w') as out_file:\n",
    "     out_file.writelines(cat_dict['10'][5])"
   ]
  },
  {
   "cell_type": "code",
   "execution_count": 8,
   "metadata": {},
   "outputs": [],
   "source": [
    "X = a[:,1]\n",
    "Y= a[:,2]"
   ]
  },
  {
   "cell_type": "code",
   "execution_count": 9,
   "metadata": {},
   "outputs": [],
   "source": [
    "Xtr, Xte, Ytr, Yte = train_test_split(X, Y, test_size=0.99)"
   ]
  },
  {
   "cell_type": "code",
   "execution_count": 10,
   "metadata": {},
   "outputs": [
    {
     "data": {
      "image/png": "[encoded data removed]",
      "text/plain": [
       "<Figure size 432x288 with 1 Axes>"
      ]
     },
     "metadata": {
      "needs_background": "light"
     },
     "output_type": "display_data"
    }
   ],
   "source": [
    "#type(Ytr)\n",
    "display = Ytr[Ytr==Ytr.astype(int)]\n",
    "display = display[display>4]\n",
    "plt.hist(display,bins=100)\n",
    "plt.show()"
   ]
  },
  {
   "cell_type": "code",
   "execution_count": 11,
   "metadata": {},
   "outputs": [],
   "source": [
    "mask = Ytr==Ytr.astype(int)\n",
    "Ytr = Ytr[mask]\n",
    "Xtr = Xtr[mask]"
   ]
  },
  {
   "cell_type": "code",
   "execution_count": 12,
   "metadata": {},
   "outputs": [],
   "source": [
    "mask = Xtr==Xtr.astype(str)\n",
    "Ytr = Ytr[mask]\n",
    "Xtr = Xtr[mask]"
   ]
  },
  {
   "cell_type": "code",
   "execution_count": 13,
   "metadata": {},
   "outputs": [],
   "source": [
    "text = Xtr\n",
    "# Join all the sentences together and extract the unique characters from the combined sentences\n",
    "chars = set(''.join(text))\n",
    "\n",
    "# Creating a dictionary that maps integers to the characters\n",
    "int2char = dict(enumerate(chars))\n",
    "\n",
    "# Creating another dictionary that maps characters to integers\n",
    "char2int = {char: ind for ind, char in int2char.items()}\n",
    "# Finding the length of the longest string in our data\n",
    "maxlen = len(max(text, key=len))"
   ]
  },
  {
   "cell_type": "code",
   "execution_count": 14,
   "metadata": {},
   "outputs": [
    {
     "name": "stdout",
     "output_type": "stream",
     "text": [
      "4937\n"
     ]
    }
   ],
   "source": [
    "print(maxlen)"
   ]
  },
  {
   "cell_type": "code",
   "execution_count": 15,
   "metadata": {},
   "outputs": [
    {
     "data": {
      "text/plain": [
       "'Iâ\\x80\\x99ve only read TFIOS by John Green. Iâ\\x80\\x99ve heard very mixed reviews on his other books, especially looking for Alaska and An Abundance of Katherines tend to get a bad rep. Maybe Iâ\\x80\\x99ll read this soon!'"
      ]
     },
     "execution_count": 15,
     "metadata": {},
     "output_type": "execute_result"
    }
   ],
   "source": [
    "Xtr[23]"
   ]
  },
  {
   "cell_type": "markdown",
   "metadata": {},
   "source": [
    "*PREPROCESSING STEPS*\n",
    "1. Import comment and video data into python and convert into numpy arrays\n",
    "2. Categorize data by different metadata by cross-referencing comments with videos through videoID\n",
    "   and then adding them into the specified buckets\n",
    "3. Create training and testing splits on each of the different categorized splits of the data\n",
    "4. Ensure that each and every string is converted from unicode to ASCII using unidecode\n",
    "5. ???\n",
    "6. Profit"
   ]
  },
  {
   "cell_type": "code",
   "execution_count": 4,
   "metadata": {},
   "outputs": [],
   "source": [
    "with open(\"yt_categorized/gaming.pkl\", 'rb') as out_file:\n",
    "     gaming_pkl = pickle.load(out_file)\n",
    "\n",
    "gaming = np.asarray(gaming_pkl, dtype=str)\n",
    "\n",
    "with open(\"yt_categorized/music.pkl\", 'rb') as out_file:\n",
    "     music_pkl = pickle.load(out_file)\n",
    "\n",
    "music = np.asarray(music_pkl, dtype=str)\n",
    "\n",
    "with open(\"yt_categorized/news.pkl\", 'rb') as out_file:\n",
    "     news_pkl = pickle.load(out_file)\n",
    "\n",
    "news = np.asarray(news_pkl, dtype=str)"
   ]
  },
  {
   "cell_type": "code",
   "execution_count": 6,
   "metadata": {},
   "outputs": [
    {
     "name": "stdout",
     "output_type": "stream",
     "text": [
      "Amount of comments in Gaming corpus: 6728\n",
      "Amount of comments in Music corpus: 116295\n",
      "Amount of comments in News corpus: 45866\n"
     ]
    }
   ],
   "source": [
    "print(\"Amount of comments in Gaming corpus:\", gaming.shape[0])\n",
    "print(\"Amount of comments in Music corpus:\", music.shape[0])\n",
    "print(\"Amount of comments in News corpus:\", news.shape[0])"
   ]
  },
  {
   "cell_type": "code",
   "execution_count": 8,
   "metadata": {},
   "outputs": [
    {
     "name": "stdout",
     "output_type": "stream",
     "text": [
      "Amount of characters in Gaming corpus: 576725\n",
      "Amount of characters in Music corpus: 7409607\n",
      "Amount of characters in News corpus: 5365285\n"
     ]
    }
   ],
   "source": [
    "print(\"Amount of characters in Gaming corpus:\", len(\"\".join(gaming)))\n",
    "print(\"Amount of characters in Music corpus:\", len(\"\".join(music)))\n",
    "print(\"Amount of characters in News corpus:\", len(\"\".join(news)))"
   ]
  },
  {
   "cell_type": "code",
   "execution_count": 12,
   "metadata": {},
   "outputs": [
    {
     "name": "stdout",
     "output_type": "stream",
     "text": [
      "\n",
      "Amount of unique characters in Gaming corpus: 93\n",
      "Amount of unique characters in Music corpus: 98\n",
      "Amount of unique characters in News corpus: 98\n"
     ]
    }
   ],
   "source": [
    "print()\n",
    "print(\"Amount of unique characters in Gaming corpus:\", len( set( \"\".join(gaming))))\n",
    "print(\"Amount of unique characters in Music corpus:\", len( set( \"\".join(music))))\n",
    "print(\"Amount of unique characters in News corpus:\", len( set( \"\".join(news))))"
   ]
  },
  {
   "cell_type": "code",
   "execution_count": 36,
   "metadata": {},
   "outputs": [],
   "source": [
    "from sklearn.model_selection import train_test_split\n",
    "\n",
    "with open(\"comments.pkl\", 'rb') as out_file:\n",
    "    comments_pkl = pickle.load(out_file)\n",
    "\n",
    "comments_tr, comments_va = train_test_split(comments_pkl, test_size=0.50, random_state=42)"
   ]
  },
  {
   "cell_type": "code",
   "execution_count": 37,
   "metadata": {},
   "outputs": [
    {
     "name": "stdout",
     "output_type": "stream",
     "text": [
      "345687\n",
      "345688\n"
     ]
    }
   ],
   "source": [
    "print(len(comments_tr))\n",
    "print(len(comments_va))"
   ]
  },
  {
   "cell_type": "code",
   "execution_count": 38,
   "metadata": {},
   "outputs": [],
   "source": [
    "with open(\"comments_tr.pkl\", 'wb') as out_file:\n",
    "    pickle.dump(comments_tr, out_file)\n",
    "\n",
    "with open(\"comments_va.pkl\", 'wb') as out_file:\n",
    "    pickle.dump(comments_va, out_file)"
   ]
  },
  {
   "cell_type": "code",
   "execution_count": 39,
   "metadata": {},
   "outputs": [],
   "source": [
    "with open(\"yt_categorized/music.pkl\", 'rb') as out_file:\n",
    "    music_pkl = pickle.load(out_file)\n",
    "\n",
    "music_tr, music_va = train_test_split(music_pkl, test_size=0.25, random_state=42)\n",
    "\n",
    "with open(\"yt_categorized/music_tr.pkl\", 'wb') as out_file:\n",
    "    pickle.dump(music_tr, out_file)\n",
    "\n",
    "with open(\"yt_categorized/music_va.pkl\", 'wb') as out_file:\n",
    "    pickle.dump(music_va, out_file)"
   ]
  },
  {
   "cell_type": "code",
   "execution_count": 40,
   "metadata": {},
   "outputs": [],
   "source": [
    "with open(\"yt_categorized/gaming.pkl\", 'rb') as out_file:\n",
    "    gaming_pkl = pickle.load(out_file)\n",
    "\n",
    "gaming_tr, gaming_va = train_test_split(gaming_pkl, test_size=0.10, random_state=42)\n",
    "\n",
    "with open(\"yt_categorized/gaming_tr.pkl\", 'wb') as out_file:\n",
    "    pickle.dump(gaming_tr, out_file)\n",
    "\n",
    "with open(\"yt_categorized/gaming_va.pkl\", 'wb') as out_file:\n",
    "    pickle.dump(gaming_va, out_file)"
   ]
  },
  {
   "cell_type": "code",
   "execution_count": 41,
   "metadata": {},
   "outputs": [],
   "source": [
    "with open(\"yt_categorized/news.pkl\", 'rb') as out_file:\n",
    "    news_pkl = pickle.load(out_file)\n",
    "\n",
    "news_tr, news_va = train_test_split(news_pkl, test_size=0.25, random_state=42)\n",
    "\n",
    "with open(\"yt_categorized/news_tr.pkl\", 'wb') as out_file:\n",
    "    pickle.dump(news_tr, out_file)\n",
    "\n",
    "with open(\"yt_categorized/news_va.pkl\", 'wb') as out_file:\n",
    "    pickle.dump(news_va, out_file)"
   ]
  },
  {
   "cell_type": "code",
   "execution_count": 33,
   "metadata": {},
   "outputs": [
    {
     "name": "stdout",
     "output_type": "stream",
     "text": [
      "L\n"
     ]
    }
   ],
   "source": [
    "print((comments[0]))"
   ]
  },
  {
   "cell_type": "code",
   "execution_count": null,
   "metadata": {},
   "outputs": [],
   "source": [
    "# print(\"Amount of comments in corpus:\", len(comments))\n",
    "print(\"Amount of characters in corpus:\", len(\"\".join(comments)))\n",
    "print(\"Amount of unique characters in corpus:\", len( set( \"\".join(comments))))"
   ]
  },
  {
   "cell_type": "code",
   "execution_count": 8,
   "metadata": {},
   "outputs": [
    {
     "ename": "TypeError",
     "evalue": "array() missing required argument 'object' (pos 1)",
     "output_type": "error",
     "traceback": [
      "\u001b[1;31m---------------------------------------------------------------------------\u001b[0m",
      "\u001b[1;31mTypeError\u001b[0m                                 Traceback (most recent call last)",
      "\u001b[1;32m<ipython-input-8-173544ee5dad>\u001b[0m in \u001b[0;36m<module>\u001b[1;34m\u001b[0m\n\u001b[0;32m      1\u001b[0m \u001b[0mdf\u001b[0m \u001b[1;33m=\u001b[0m \u001b[0mpd\u001b[0m\u001b[1;33m.\u001b[0m\u001b[0mDataFrame\u001b[0m\u001b[1;33m(\u001b[0m\u001b[1;33m)\u001b[0m\u001b[1;33m\u001b[0m\u001b[1;33m\u001b[0m\u001b[0m\n\u001b[0;32m      2\u001b[0m \u001b[0mchunksize\u001b[0m \u001b[1;33m=\u001b[0m \u001b[1;36m10\u001b[0m \u001b[1;33m**\u001b[0m \u001b[1;36m3\u001b[0m\u001b[1;33m\u001b[0m\u001b[1;33m\u001b[0m\u001b[0m\n\u001b[1;32m----> 3\u001b[1;33m \u001b[0mcomments\u001b[0m \u001b[1;33m=\u001b[0m \u001b[0mnp\u001b[0m\u001b[1;33m.\u001b[0m\u001b[0marray\u001b[0m\u001b[1;33m(\u001b[0m\u001b[1;33m)\u001b[0m\u001b[1;33m\u001b[0m\u001b[1;33m\u001b[0m\u001b[0m\n\u001b[0m\u001b[0;32m      4\u001b[0m \u001b[1;33m\u001b[0m\u001b[0m\n\u001b[0;32m      5\u001b[0m for chunk in pd.read_csv('youtube/UScomments.csv', sep=',',header=None,chunksize=chunksize, \n",
      "\u001b[1;31mTypeError\u001b[0m: array() missing required argument 'object' (pos 1)"
     ]
    }
   ],
   "source": [
    "df = pd.DataFrame()\n",
    "chunksize = 10 ** 3\n",
    "comments = np.array()\n",
    "\n",
    "for chunk in pd.read_csv('youtube/UScomments.csv', sep=',',header=None,chunksize=chunksize, \n",
    "                         encoding='utf-8',dtype={'video_id':str, 'comment_text':str, 'likes':int, 'replies':int}, \n",
    "                         error_bad_lines=False):\n",
    "    comments_chunk = chunk.to_numpy()\n",
    "    comments_chunk = comments_chunk[1:,1]\n",
    "    comments_chunk = np.where()\n",
    "    comments_chunk = np.char.decode(np.char.encode(comments, encoding=\"ascii\", errors=\"ignore\"))\n",
    "    comments.append(comments_chunk)\n",
    "\n"
   ]
  },
  {
   "cell_type": "code",
   "execution_count": null,
   "metadata": {},
   "outputs": [],
   "source": []
  }
 ],
 "metadata": {
  "kernelspec": {
   "display_name": "Python 3",
   "language": "python",
   "name": "python3"
  },
  "language_info": {
   "codemirror_mode": {
    "name": "ipython",
    "version": 3
   },
   "file_extension": ".py",
   "mimetype": "text/x-python",
   "name": "python",
   "nbconvert_exporter": "python",
   "pygments_lexer": "ipython3",
   "version": "3.7.4"
  }
 },
 "nbformat": 4,
 "nbformat_minor": 2
}

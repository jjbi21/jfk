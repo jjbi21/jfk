{
 "cells": [
  {
   "cell_type": "code",
   "execution_count": 1,
   "metadata": {},
   "outputs": [],
   "source": [
    "from __future__ import unicode_literals, print_function, division\n",
    "from io import open\n",
    "import glob\n",
    "import os\n",
    "import random\n",
    "import time\n",
    "import math\n",
    "import torch\n",
    "import torch.nn as nn\n",
    "import torchvision\n",
    "import torchvision.transforms as transforms\n",
    "from matplotlib import pyplot as plt\n",
    "import numpy as np\n",
    "import pandas as pd\n",
    "from collections import defaultdict\n",
    "import pickle\n",
    "\n",
    "import markovify"
   ]
  },
  {
   "cell_type": "code",
   "execution_count": 2,
   "metadata": {},
   "outputs": [
    {
     "name": "stdout",
     "output_type": "stream",
     "text": [
      "Logan Paul it's yo big day \n"
     ]
    }
   ],
   "source": [
    "comments = list()\n",
    "\n",
    "with open(\"comments.pkl\", 'rb') as out_file:\n",
    "     comments = pickle.load(out_file)\n",
    "\n",
    "print(comments[0])"
   ]
  },
  {
   "cell_type": "code",
   "execution_count": 9,
   "metadata": {},
   "outputs": [],
   "source": [
    "with open(\"comments.txt\", 'w') as out_file:\n",
    "    for comment in comments:\n",
    "        out_file.write(comment)\n",
    "        out_file.write('\\n')"
   ]
  },
  {
   "cell_type": "code",
   "execution_count": 3,
   "metadata": {},
   "outputs": [],
   "source": [
    "# Get raw text as string.\n",
    "with open(\"comments.txt\") as f:\n",
    "    text = f.read()"
   ]
  },
  {
   "cell_type": "code",
   "execution_count": 16,
   "metadata": {
    "scrolled": true
   },
   "outputs": [
    {
     "name": "stdout",
     "output_type": "stream",
     "text": [
      "Three randomly-generated sentences of no more than 280 characters\n",
      "\n",
      "that would raised you and how to be in the truth\n",
      "FUCK ALL your familes. They are you what about the complete control my legs !\n",
      "*OH WHAT THE SABRINA LINDA\n",
      "\n",
      "Randomly-generated sentences of no more than 280 character\n",
      "Priming string: The\n",
      "\n",
      "The Best, The built body armor but most people,, so subtle here is shouting from last name of either way this stems from The way you so excited!!!!!\n",
      "\n",
      "Randomly-generated sentences of no more than 280 character\n",
      "Priming string: This\n",
      "This video in the table getting married!!!\n"
     ]
    }
   ],
   "source": [
    "# Build the model.\n",
    "text_model = markovify.NewlineText(text, state_size=1, well_formed = False)\n",
    "\n",
    "print(\"Three randomly-generated sentences of no more than 280 characters\\n\")\n",
    "# Print three randomly-generated sentences of no more than 280 characters\n",
    "for i in range(3):\n",
    "    print(text_model.make_short_sentence(280, test_output=False))\n",
    "\n",
    "print(\"\\nRandomly-generated sentences of no more than 280 character\\nPriming string: The\\n\")\n",
    "# Print randomly-generated sentence of no more than 280 characters on general dataset\n",
    "# Priming string: The\n",
    "print(text_model.make_sentence_with_start(\"The\", test_output=False, max_words=280))\n",
    "\n",
    "print(\"\\nRandomly-generated sentences of no more than 280 character\\nPriming string: This\")\n",
    "# Print randomly-generated sentence of no more than 280 characters on general dataset\n",
    "# Priming string: This\n",
    "print(text_model.make_sentence_with_start(\"This\", test_output=False, max_words=280))"
   ]
  },
  {
   "cell_type": "code",
   "execution_count": 18,
   "metadata": {},
   "outputs": [
    {
     "name": "stdout",
     "output_type": "stream",
     "text": [
      "\n",
      "Randomly-generated sentences of no more than 280 character\n",
      "Priming string: I\n",
      "I saw this look and busting a try just gotta tell my door i love this as equifax.\n"
     ]
    }
   ],
   "source": [
    "print(\"\\nRandomly-generated sentences of no more than 280 character\\nPriming string: I\")\n",
    "# Print randomly-generated sentence of no more than 280 characters on general dataset\n",
    "# Priming string: I\n",
    "print(text_model.make_sentence_with_start(\"I\", test_output=False, max_words=280))"
   ]
  },
  {
   "cell_type": "code",
   "execution_count": 20,
   "metadata": {},
   "outputs": [],
   "source": [
    "music = list()\n",
    "news = list()\n",
    "gaming = list()\n",
    "\n",
    "with open(\"yt_categorized/gaming.pkl\", 'rb') as out_file:\n",
    "     gaming = pickle.load(out_file)\n",
    "\n",
    "with open(\"yt_categorized/gaming.txt\", 'w') as out_file:\n",
    "    for comment in gaming:\n",
    "        out_file.write(comment)\n",
    "        out_file.write('\\n')\n",
    "\n",
    "with open(\"yt_categorized/music.pkl\", 'rb') as out_file:\n",
    "     music = pickle.load(out_file)\n",
    "\n",
    "with open(\"yt_categorized/music.txt\", 'w') as out_file:\n",
    "    for comment in music:\n",
    "        out_file.write(comment)\n",
    "        out_file.write('\\n')\n",
    "\n",
    "with open(\"yt_categorized/news.pkl\", 'rb') as out_file:\n",
    "     news = pickle.load(out_file)\n",
    "\n",
    "with open(\"yt_categorized/news.txt\", 'w') as out_file:\n",
    "    for comment in news:\n",
    "        out_file.write(comment)\n",
    "        out_file.write('\\n')"
   ]
  },
  {
   "cell_type": "code",
   "execution_count": 21,
   "metadata": {},
   "outputs": [],
   "source": [
    "# Get raw text as string.\n",
    "with open(\"yt_categorized/news.txt\") as f:\n",
    "    text = f.read()\n"
   ]
  },
  {
   "cell_type": "code",
   "execution_count": 22,
   "metadata": {},
   "outputs": [
    {
     "name": "stdout",
     "output_type": "stream",
     "text": [
      "Three randomly-generated sentences of no more than 280 characters\n",
      "\n",
      "The Queen\n",
      "TOP KEK!\n",
      "Mario sube el referndum en mexico.\n",
      "\n",
      "Randomly-generated sentences of no more than 280 character\n",
      "Priming string: The\n",
      "\n",
      "The entire situation in South Carolina\n",
      "\n",
      "Randomly-generated sentences of no more than 280 character\n",
      "Priming string: This\n",
      "This is impossible to send clothes to destroy humans and this is the Donald Trump.\n"
     ]
    }
   ],
   "source": [
    "# Build the model.\n",
    "text_model = markovify.NewlineText(text, state_size=1, well_formed = False)\n",
    "\n",
    "print(\"Three randomly-generated sentences of no more than 280 characters\\n\")\n",
    "# Print three randomly-generated sentences of no more than 280 characters\n",
    "for i in range(3):\n",
    "    print(text_model.make_short_sentence(280, test_output=False))\n",
    "\n",
    "print(\"\\nRandomly-generated sentences of no more than 280 character\\nPriming string: The\\n\")\n",
    "# Print randomly-generated sentence of no more than 280 characters on general dataset\n",
    "# Priming string: The\n",
    "print(text_model.make_sentence_with_start(\"The\", test_output=False, max_words=280))\n",
    "\n",
    "print(\"\\nRandomly-generated sentences of no more than 280 character\\nPriming string: This\")\n",
    "# Print randomly-generated sentence of no more than 280 characters on general dataset\n",
    "# Priming string: This\n",
    "print(text_model.make_sentence_with_start(\"This\", test_output=False, max_words=280))"
   ]
  },
  {
   "cell_type": "code",
   "execution_count": 24,
   "metadata": {},
   "outputs": [
    {
     "name": "stdout",
     "output_type": "stream",
     "text": [
      "\n",
      "Randomly-generated sentences of no more than 280 character\n",
      "Priming string: I\n",
      "I suddenly stop media like this country first, and are 7 years. Florida would be, (yoo-hoo! tee shirt under arrest.\n"
     ]
    }
   ],
   "source": [
    "print(\"\\nRandomly-generated sentences of no more than 280 character\\nPriming string: I\")\n",
    "# Print randomly-generated sentence of no more than 280 characters on general dataset\n",
    "# Priming string: I\n",
    "print(text_model.make_sentence_with_start(\"I\", test_output=False, max_words=40))"
   ]
  },
  {
   "cell_type": "code",
   "execution_count": 2,
   "metadata": {},
   "outputs": [],
   "source": [
    "# Get raw text as string.\n",
    "with open(\"yt_categorized/music.txt\") as f:\n",
    "    text = f.read()\n"
   ]
  },
  {
   "cell_type": "code",
   "execution_count": 3,
   "metadata": {},
   "outputs": [
    {
     "name": "stdout",
     "output_type": "stream",
     "text": [
      "Three randomly-generated sentences of no more than 280 characters\n",
      "\n",
      "if this band ever, I GOT ME OF MYY HOUSSEE!\n",
      "I get\\nBehind computer makes you hurt that song is not wait on me\\nWhile you're making judgments about letting you)\\nI'm all going to the addy, hop on singing! God damnit!!!\n",
      "I want a second part of nylon guitar. \\nLong live your way...\\n\\n[Chorus]\\nI will get exclusive card, to this song\n",
      "\n",
      "Randomly-generated sentences of no more than 280 character\n",
      "Priming string: The\n",
      "\n",
      "Love it my eyes\\nAnd a power and it on\\n\\nCome one day, VA\\nRich mind writing such a devastating loss, I LOVE YOU !!!!!!!!!!!!!!!!!!!!!!!!!!!!!!!!!!!!!!!!!!!!!!!!!!!!!!!!!!!\n",
      "\n",
      "Randomly-generated sentences of no more than 280 character\n",
      "Priming string: This\n",
      "This porg porg porg\\nBorg porg porg\n",
      "\n",
      "Randomly-generated sentences of no more than 280 character\n",
      "Priming string: I\n",
      "I love this is just sweat.\n"
     ]
    }
   ],
   "source": [
    "# Build the model.\n",
    "text_model = markovify.NewlineText(text, state_size=1, well_formed = False)\n",
    "\n",
    "print(\"Three randomly-generated sentences of no more than 280 characters\\n\")\n",
    "# Print three randomly-generated sentences of no more than 280 characters\n",
    "for i in range(3):\n",
    "    print(text_model.make_short_sentence(280, test_output=False))\n",
    "\n",
    "print(\"\\nRandomly-generated sentences of no more than 280 character\\nPriming string: The\\n\")\n",
    "# Print randomly-generated sentence of no more than 280 characters on general dataset\n",
    "# Priming string: Love\n",
    "print(text_model.make_sentence_with_start(\"Love\", test_output=False, max_words=280))\n",
    "\n",
    "print(\"\\nRandomly-generated sentences of no more than 280 character\\nPriming string: This\")\n",
    "# Print randomly-generated sentence of no more than 280 characters on general dataset\n",
    "# Priming string: This\n",
    "print(text_model.make_sentence_with_start(\"This\", test_output=False, max_words=280))\n",
    "\n",
    "print(\"\\nRandomly-generated sentences of no more than 280 character\\nPriming string: I\")\n",
    "# Print randomly-generated sentence of no more than 280 characters on general dataset\n",
    "# Priming string: I\n",
    "print(text_model.make_sentence_with_start(\"I\", test_output=False, max_words=40))"
   ]
  },
  {
   "cell_type": "code",
   "execution_count": 27,
   "metadata": {},
   "outputs": [],
   "source": [
    "# Get raw text as string.\n",
    "with open(\"yt_categorized/gaming.txt\") as f:\n",
    "    text = f.read()\n"
   ]
  },
  {
   "cell_type": "code",
   "execution_count": 29,
   "metadata": {},
   "outputs": [
    {
     "name": "stdout",
     "output_type": "stream",
     "text": [
      "Three randomly-generated sentences of no more than 280 characters\n",
      "\n",
      "Now NINTEND since they say, when you there a cubic metre of a few people who wanted the stones in time the native american soldier\n",
      "Analyze Squrtal or at least list for a Nintendo is the vultures had money from GASP LEO LAIGI LUIGI >:v\n",
      "ay mario to win----don't think so. Makes me these people still better with these builds and don't have forgotten how to pay off.\n",
      "\n",
      "Randomly-generated sentences of no more than 280 character\n",
      "Priming string: The\n",
      "\n",
      "The one has aesthetic values of the same support you Nintendo! I had a sort through it. Perhaps when it a kart in different Megapeng channel ^.^\n",
      "\n",
      "Randomly-generated sentences of no more than 280 character\n",
      "Priming string: This\n",
      "This is probably after south park season was sick of course. What does it brought to open the beginning brings back to their points on the internet till next\n",
      "\n",
      "Randomly-generated sentences of no more than 280 character\n",
      "Priming string: I\n",
      "I wish they both inhalation and find all this in America was amazing. you hand gets salty dog is by scalpers\n"
     ]
    }
   ],
   "source": [
    "# Build the model.\n",
    "text_model = markovify.NewlineText(text, state_size=1, well_formed = False)\n",
    "\n",
    "print(\"Three randomly-generated sentences of no more than 280 characters\\n\")\n",
    "# Print three randomly-generated sentences of no more than 280 characters\n",
    "for i in range(3):\n",
    "    print(text_model.make_short_sentence(280))\n",
    "\n",
    "print(\"\\nRandomly-generated sentences of no more than 280 character\\nPriming string: The\\n\")\n",
    "# Print randomly-generated sentence of no more than 280 characters on general dataset\n",
    "# Priming string: The\n",
    "print(text_model.make_sentence_with_start(\"The\", max_words=280))\n",
    "\n",
    "print(\"\\nRandomly-generated sentences of no more than 280 character\\nPriming string: This\")\n",
    "# Print randomly-generated sentence of no more than 280 characters on general dataset\n",
    "# Priming string: This\n",
    "print(text_model.make_sentence_with_start(\"This\", max_words=280))\n",
    "\n",
    "print(\"\\nRandomly-generated sentences of no more than 280 character\\nPriming string: I\")\n",
    "# Print randomly-generated sentence of no more than 280 characters on general dataset\n",
    "# Priming string: I\n",
    "print(text_model.make_sentence_with_start(\"I\", max_words=40))"
   ]
  },
  {
   "cell_type": "code",
   "execution_count": 4,
   "metadata": {},
   "outputs": [],
   "source": [
    "# generating comments using random sampling with replacement\n",
    "from random import choices\n",
    "\n",
    "comments = list()\n",
    "\n",
    "with open(\"comments.pkl\", 'rb') as out_file:\n",
    "     comments = pickle.load(out_file)\n",
    "\n",
    "with open(\"comments_random.txt\", 'w') as out_file:\n",
    "    for comment in choices(comments, k = 10000):\n",
    "        out_file.write(comment)\n",
    "        out_file.write('\\n')\n",
    "\n",
    "# Get raw text as string.\n",
    "with open(\"comments.txt\") as f:\n",
    "    text = f.read()"
   ]
  },
  {
   "cell_type": "code",
   "execution_count": null,
   "metadata": {},
   "outputs": [],
   "source": [
    "text_model = markovify.NewlineText(text, state_size=1, well_formed = False)\n",
    "\n",
    "for i in range(10):\n",
    "    print(text_model.make_short_sentence(280, test_output=False))\n"
   ]
  },
  {
   "cell_type": "code",
   "execution_count": 4,
   "metadata": {},
   "outputs": [],
   "source": [
    "from random import choices\n",
    "\n",
    "comments = list()\n",
    "\n",
    "with open(\"comments.pkl\", 'rb') as out_file:\n",
    "    comments = pickle.load(out_file)\n",
    "    \n",
    "with open(\"comments_sampled.txt\", 'w') as out_file:\n",
    "    for comment in choices(comments, k = 16):\n",
    "        out_file.write(comment)\n",
    "        out_file.write('\\n')"
   ]
  },
  {
   "cell_type": "code",
   "execution_count": 7,
   "metadata": {},
   "outputs": [
    {
     "name": "stdout",
     "output_type": "stream",
     "text": [
      "i love for a very boring drivel from indonesia\n",
      "I dont need more\\nYou gon' need a long for the name is just tell someone compared to the choreo left me is so many songs is something he's a knife?\n",
      "Yelle, you did we come together\n",
      "Literally liked that i like The opening and composing her few hours. 16/10\n",
      "Lenda\n",
      "\n"
     ]
    }
   ],
   "source": [
    "# generating comments using random sampling with replacement\n",
    "from random import choices\n",
    "\n",
    "comments = list()\n",
    "\n",
    "with open(\"yt_categorized/music.pkl\", 'rb') as out_file:\n",
    "     comments = pickle.load(out_file)\n",
    "\n",
    "with open(\"yt_categorized/music_rand.txt\", 'w') as out_file:\n",
    "    for comment in choices(comments, k = 10000):\n",
    "        out_file.write(comment)\n",
    "        out_file.write('\\n')\n",
    "\n",
    "# Get raw text as string.\n",
    "with open(\"yt_categorized/music_rand.txt\") as f:\n",
    "    text = f.read()\n",
    "\n",
    "text_model = markovify.NewlineText(text, state_size=1, well_formed = False)\n",
    "\n",
    "for i in range(5):\n",
    "    print(text_model.make_short_sentence(280, test_output=False))\n",
    "\n",
    "print()"
   ]
  },
  {
   "cell_type": "code",
   "execution_count": 10,
   "metadata": {},
   "outputs": [
    {
     "name": "stdout",
     "output_type": "stream",
     "text": [
      "I'm barely literate when adding micro transactions to do a fucking job oculus!\n",
      "me off. You are the iron curtain was still have fun of this game ha clash of course. What safe websites can play the usefulness of rubbish\n",
      "So basically generating massive open world lol. 14 + TOUCH HEY WHAT THE SWITCH! Give your talking in exchange for adding more pokemon, the Camera you're still able to do a human's impression when you try this.\n",
      "Game could either way too easily. Especially if this trailer thanks\n",
      "\n"
     ]
    }
   ],
   "source": [
    "# generating comments using random sampling with replacement\n",
    "from random import choices\n",
    "\n",
    "comments = list()\n",
    "\n",
    "with open(\"yt_categorized/gaming.pkl\", 'rb') as out_file:\n",
    "     comments = pickle.load(out_file)\n",
    "\n",
    "with open(\"yt_categorized/gaming_rand.txt\", 'w') as out_file:\n",
    "    for comment in choices(comments, k=5000):\n",
    "        out_file.write(comment)\n",
    "        out_file.write('\\n')\n",
    "\n",
    "# Get raw text as string.\n",
    "with open(\"yt_categorized/gaming_rand.txt\") as f:\n",
    "    text = f.read()\n",
    "\n",
    "text_model = markovify.NewlineText(text, state_size=1, well_formed = False)\n",
    "\n",
    "for i in range(4):\n",
    "    print(text_model.make_short_sentence(280, test_output=False))\n",
    "\n",
    "print()"
   ]
  },
  {
   "cell_type": "code",
   "execution_count": 11,
   "metadata": {},
   "outputs": [
    {
     "name": "stdout",
     "output_type": "stream",
     "text": [
      "What the democratic country were in the Kingdom. You really distasteful\n",
      "YouTube\n",
      "Yeah. We are the other heads of the veteran, our veteran IT #TRUTH\n",
      "Just wait and did anything to kill, unless you given a earthquake can tell about it. Its like white and our wall....\n",
      "\n"
     ]
    }
   ],
   "source": [
    "# generating comments using random sampling with replacement\n",
    "from random import choices\n",
    "\n",
    "comments = list()\n",
    "\n",
    "with open(\"yt_categorized/news.pkl\", 'rb') as out_file:\n",
    "     comments = pickle.load(out_file)\n",
    "\n",
    "with open(\"yt_categorized/news_rand.txt\", 'w') as out_file:\n",
    "    for comment in choices(comments, k=10000):\n",
    "        out_file.write(comment)\n",
    "        out_file.write('\\n')\n",
    "\n",
    "# Get raw text as string.\n",
    "with open(\"yt_categorized/news_rand.txt\") as f:\n",
    "    text = f.read()\n",
    "\n",
    "text_model = markovify.NewlineText(text, state_size=1, well_formed = False)\n",
    "\n",
    "for i in range(4):\n",
    "    print(text_model.make_short_sentence(280, test_output=False))\n",
    "\n",
    "print()"
   ]
  },
  {
   "cell_type": "code",
   "execution_count": null,
   "metadata": {},
   "outputs": [],
   "source": []
  }
 ],
 "metadata": {
  "kernelspec": {
   "display_name": "Python 3",
   "language": "python",
   "name": "python3"
  },
  "language_info": {
   "codemirror_mode": {
    "name": "ipython",
    "version": 3
   },
   "file_extension": ".py",
   "mimetype": "text/x-python",
   "name": "python",
   "nbconvert_exporter": "python",
   "pygments_lexer": "ipython3",
   "version": "3.7.4"
  }
 },
 "nbformat": 4,
 "nbformat_minor": 2
}
